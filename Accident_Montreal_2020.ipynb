{
 "cells": [
  {
   "cell_type": "markdown",
   "metadata": {
    "id": "SXjrZeC9r9-W"
   },
   "source": [
    "# Chargement des données et imports des librairies"
   ]
  },
  {
   "cell_type": "code",
   "execution_count": 1,
   "metadata": {
    "id": "wbInw8bmujB5"
   },
   "outputs": [],
   "source": [
    "# Importer les libraries\n",
    "import pandas as pd\n",
    "import numpy as np\n",
    "import matplotlib.pyplot as plt\n",
    "import seaborn as sns\n",
    "from sklearn import tree\n",
    "from sklearn.ensemble import RandomForestClassifier\n",
    "from sklearn.preprocessing import LabelEncoder\n",
    "from sklearn.metrics import recall_score\n",
    "from sklearn.metrics import confusion_matrix\n",
    "from sklearn.metrics import accuracy_score\n",
    "from sklearn.metrics import classification_report\n",
    "from sklearn.model_selection import train_test_split\n",
    "from sklearn.utils import resample\n",
    "from sklearn.model_selection import cross_val_score\n",
    "from sklearn.model_selection import KFold\n",
    "from sklearn.model_selection import GridSearchCV"
   ]
  },
  {
   "cell_type": "code",
   "execution_count": 2,
   "metadata": {
    "colab": {
     "base_uri": "https://localhost:8080/",
     "height": 438
    },
    "id": "OcydDgFutKA4",
    "outputId": "6fe36b4b-5a89-45a4-bcea-9b2310406306"
   },
   "outputs": [
    {
     "data": {
      "text/html": [
       "<div>\n",
       "<style scoped>\n",
       "    .dataframe tbody tr th:only-of-type {\n",
       "        vertical-align: middle;\n",
       "    }\n",
       "\n",
       "    .dataframe tbody tr th {\n",
       "        vertical-align: top;\n",
       "    }\n",
       "\n",
       "    .dataframe thead th {\n",
       "        text-align: right;\n",
       "    }\n",
       "</style>\n",
       "<table border=\"1\" class=\"dataframe\">\n",
       "  <thead>\n",
       "    <tr style=\"text-align: right;\">\n",
       "      <th></th>\n",
       "      <th>AN</th>\n",
       "      <th>NO_SEQ_COLL</th>\n",
       "      <th>DT_ACCDN</th>\n",
       "      <th>HR_ACCDN</th>\n",
       "      <th>JR_SEMN_ACCDN</th>\n",
       "      <th>gravite</th>\n",
       "      <th>NB_MORTS</th>\n",
       "      <th>NB_BLESSES_GRAVES</th>\n",
       "      <th>NB_BLESSES_LEGERS</th>\n",
       "      <th>NB_VICTIMES_TOTAL</th>\n",
       "      <th>...</th>\n",
       "      <th>nb_tous_autobus_minibus</th>\n",
       "      <th>nb_bicyclette</th>\n",
       "      <th>nb_cyclomoteur</th>\n",
       "      <th>nb_motocyclette</th>\n",
       "      <th>nb_taxi</th>\n",
       "      <th>nb_urgence</th>\n",
       "      <th>nb_motoneige</th>\n",
       "      <th>nb_VHR</th>\n",
       "      <th>nb_autres_types</th>\n",
       "      <th>nb_veh_non_precise</th>\n",
       "    </tr>\n",
       "  </thead>\n",
       "  <tbody>\n",
       "    <tr>\n",
       "      <th>0</th>\n",
       "      <td>2020</td>\n",
       "      <td>2020 _ 1</td>\n",
       "      <td>2020-05-09</td>\n",
       "      <td>09:00:00-09:59:00</td>\n",
       "      <td>SA</td>\n",
       "      <td>Léger</td>\n",
       "      <td>0</td>\n",
       "      <td>0</td>\n",
       "      <td>1</td>\n",
       "      <td>1</td>\n",
       "      <td>...</td>\n",
       "      <td>0.0</td>\n",
       "      <td>0.0</td>\n",
       "      <td>0.0</td>\n",
       "      <td>0.0</td>\n",
       "      <td>0.0</td>\n",
       "      <td>0.0</td>\n",
       "      <td>0.0</td>\n",
       "      <td>0.0</td>\n",
       "      <td>0.0</td>\n",
       "      <td>0.0</td>\n",
       "    </tr>\n",
       "    <tr>\n",
       "      <th>1</th>\n",
       "      <td>2020</td>\n",
       "      <td>2020 _ 2</td>\n",
       "      <td>2020-02-07</td>\n",
       "      <td>11:00:00-11:59:00</td>\n",
       "      <td>VE</td>\n",
       "      <td>Dommages matériels seulement</td>\n",
       "      <td>0</td>\n",
       "      <td>0</td>\n",
       "      <td>0</td>\n",
       "      <td>0</td>\n",
       "      <td>...</td>\n",
       "      <td>0.0</td>\n",
       "      <td>0.0</td>\n",
       "      <td>0.0</td>\n",
       "      <td>0.0</td>\n",
       "      <td>0.0</td>\n",
       "      <td>0.0</td>\n",
       "      <td>0.0</td>\n",
       "      <td>0.0</td>\n",
       "      <td>0.0</td>\n",
       "      <td>0.0</td>\n",
       "    </tr>\n",
       "    <tr>\n",
       "      <th>2</th>\n",
       "      <td>2020</td>\n",
       "      <td>2020 _ 3</td>\n",
       "      <td>2020-06-01</td>\n",
       "      <td>12:00:00-12:59:00</td>\n",
       "      <td>LU</td>\n",
       "      <td>Dommages matériels seulement</td>\n",
       "      <td>0</td>\n",
       "      <td>0</td>\n",
       "      <td>0</td>\n",
       "      <td>0</td>\n",
       "      <td>...</td>\n",
       "      <td>0.0</td>\n",
       "      <td>0.0</td>\n",
       "      <td>0.0</td>\n",
       "      <td>0.0</td>\n",
       "      <td>0.0</td>\n",
       "      <td>0.0</td>\n",
       "      <td>0.0</td>\n",
       "      <td>0.0</td>\n",
       "      <td>0.0</td>\n",
       "      <td>0.0</td>\n",
       "    </tr>\n",
       "    <tr>\n",
       "      <th>3</th>\n",
       "      <td>2020</td>\n",
       "      <td>2020 _ 4</td>\n",
       "      <td>2020-06-01</td>\n",
       "      <td>14:00:00-14:59:00</td>\n",
       "      <td>LU</td>\n",
       "      <td>Dommages matériels seulement</td>\n",
       "      <td>0</td>\n",
       "      <td>0</td>\n",
       "      <td>0</td>\n",
       "      <td>0</td>\n",
       "      <td>...</td>\n",
       "      <td>0.0</td>\n",
       "      <td>0.0</td>\n",
       "      <td>0.0</td>\n",
       "      <td>0.0</td>\n",
       "      <td>0.0</td>\n",
       "      <td>0.0</td>\n",
       "      <td>0.0</td>\n",
       "      <td>0.0</td>\n",
       "      <td>0.0</td>\n",
       "      <td>0.0</td>\n",
       "    </tr>\n",
       "    <tr>\n",
       "      <th>4</th>\n",
       "      <td>2020</td>\n",
       "      <td>2020 _ 5</td>\n",
       "      <td>2020-11-26</td>\n",
       "      <td>07:00:00-07:59:00</td>\n",
       "      <td>JE</td>\n",
       "      <td>Grave</td>\n",
       "      <td>0</td>\n",
       "      <td>1</td>\n",
       "      <td>0</td>\n",
       "      <td>1</td>\n",
       "      <td>...</td>\n",
       "      <td>0.0</td>\n",
       "      <td>0.0</td>\n",
       "      <td>0.0</td>\n",
       "      <td>0.0</td>\n",
       "      <td>0.0</td>\n",
       "      <td>0.0</td>\n",
       "      <td>0.0</td>\n",
       "      <td>0.0</td>\n",
       "      <td>0.0</td>\n",
       "      <td>0.0</td>\n",
       "    </tr>\n",
       "  </tbody>\n",
       "</table>\n",
       "<p>5 rows × 60 columns</p>\n",
       "</div>"
      ],
      "text/plain": [
       "     AN NO_SEQ_COLL    DT_ACCDN           HR_ACCDN JR_SEMN_ACCDN  \\\n",
       "0  2020    2020 _ 1  2020-05-09  09:00:00-09:59:00            SA   \n",
       "1  2020    2020 _ 2  2020-02-07  11:00:00-11:59:00            VE   \n",
       "2  2020    2020 _ 3  2020-06-01  12:00:00-12:59:00            LU   \n",
       "3  2020    2020 _ 4  2020-06-01  14:00:00-14:59:00            LU   \n",
       "4  2020    2020 _ 5  2020-11-26  07:00:00-07:59:00            JE   \n",
       "\n",
       "                        gravite  NB_MORTS  NB_BLESSES_GRAVES  \\\n",
       "0                         Léger         0                  0   \n",
       "1  Dommages matériels seulement         0                  0   \n",
       "2  Dommages matériels seulement         0                  0   \n",
       "3  Dommages matériels seulement         0                  0   \n",
       "4                         Grave         0                  1   \n",
       "\n",
       "   NB_BLESSES_LEGERS  NB_VICTIMES_TOTAL  ...  nb_tous_autobus_minibus  \\\n",
       "0                  1                  1  ...                      0.0   \n",
       "1                  0                  0  ...                      0.0   \n",
       "2                  0                  0  ...                      0.0   \n",
       "3                  0                  0  ...                      0.0   \n",
       "4                  0                  1  ...                      0.0   \n",
       "\n",
       "   nb_bicyclette  nb_cyclomoteur  nb_motocyclette  nb_taxi  nb_urgence  \\\n",
       "0            0.0             0.0              0.0      0.0         0.0   \n",
       "1            0.0             0.0              0.0      0.0         0.0   \n",
       "2            0.0             0.0              0.0      0.0         0.0   \n",
       "3            0.0             0.0              0.0      0.0         0.0   \n",
       "4            0.0             0.0              0.0      0.0         0.0   \n",
       "\n",
       "   nb_motoneige  nb_VHR  nb_autres_types  nb_veh_non_precise  \n",
       "0           0.0     0.0              0.0                 0.0  \n",
       "1           0.0     0.0              0.0                 0.0  \n",
       "2           0.0     0.0              0.0                 0.0  \n",
       "3           0.0     0.0              0.0                 0.0  \n",
       "4           0.0     0.0              0.0                 0.0  \n",
       "\n",
       "[5 rows x 60 columns]"
      ]
     },
     "execution_count": 2,
     "metadata": {},
     "output_type": "execute_result"
    }
   ],
   "source": [
    "# Chargement des données\n",
    "data_csv = pd.read_csv('rapports-accident-2020.csv')\n",
    "# Affichage d'un extrait du dataset\n",
    "data_csv.head()"
   ]
  },
  {
   "cell_type": "markdown",
   "metadata": {
    "id": "bVAd4WYofRPA"
   },
   "source": [
    "# Pré-traitement du dataset\n"
   ]
  },
  {
   "cell_type": "markdown",
   "metadata": {
    "id": "zuaF-OBHzPog"
   },
   "source": [
    "## 1ere analyse du dataset"
   ]
  },
  {
   "cell_type": "code",
   "execution_count": 3,
   "metadata": {
    "colab": {
     "base_uri": "https://localhost:8080/",
     "height": 0
    },
    "id": "gHGTkMLEfQmU",
    "outputId": "512e42f4-7566-49ef-df58-83c000e3316c"
   },
   "outputs": [
    {
     "name": "stdout",
     "output_type": "stream",
     "text": [
      "Le dataset contient 95088 observations et 60 attributs.\n"
     ]
    }
   ],
   "source": [
    "# Taille du dataset\n",
    "n_obs, n_attr = data_csv.shape\n",
    "print(\"Le dataset contient\", n_obs,\"observations et\", n_attr,\"attributs.\")\n",
    "\n",
    "# Création d'une copie du dataframe qu'on utilisera dans la suite\n",
    "df_data = data_csv.copy()\n",
    "\n",
    "# Suppression des variables non pertinentes pour notre analyse\n",
    "df_data.drop(['AN','NO_SEQ_COLL','NB_MORTS','NB_BLESSES_GRAVES','NB_BLESSES_LEGERS','NB_VICTIMES_TOTAL', \n",
    "               'NB_DECES_PIETON','NB_BLESSES_PIETON', 'NB_VICTIMES_PIETON','NB_DECES_MOTO','NB_BLESSES_MOTO','NB_VICTIMES_MOTO', 'NB_DECES_VELO',\n",
    "               'NB_BLESSES_VELO','NB_VICTIMES_VELO', 'NO_CIVIQ_ACCDN','SFX_NO_CIVIQ_ACCDN','RUE_ACCDN','ACCDN_PRES_DE','CD_PNT_CDRNL_ROUTE',\n",
    "               'NB_METRE_DIST_ACCD','CD_PNT_CDRNL_REPRR','CD_SIT_PRTCE_ACCDN','BORNE_KM_ACCDN'], axis=1, inplace=True)"
   ]
  },
  {
   "cell_type": "code",
   "execution_count": 4,
   "metadata": {
    "colab": {
     "base_uri": "https://localhost:8080/",
     "height": 0
    },
    "id": "9NwKBV6Z1wge",
    "outputId": "c8110e38-6b9e-43da-8ba2-53fbc03aed52"
   },
   "outputs": [
    {
     "data": {
      "text/plain": [
       "DT_ACCDN                        object\n",
       "HR_ACCDN                        object\n",
       "JR_SEMN_ACCDN                   object\n",
       "gravite                         object\n",
       "NB_VEH_IMPLIQUES_ACCDN         float64\n",
       "CD_MUNCP                        object\n",
       "REG_ADM                         object\n",
       "MRC                             object\n",
       "TP_REPRR_ACCDN                  object\n",
       "NO_ROUTE                        object\n",
       "VITESSE_AUTOR                  float64\n",
       "CD_GENRE_ACCDN                  object\n",
       "CD_ETAT_SURFC                   object\n",
       "CD_ECLRM                        object\n",
       "CD_ENVRN_ACCDN                  object\n",
       "CD_CATEG_ROUTE                  object\n",
       "CD_ETAT_CHASS                   object\n",
       "CD_ASPCT_ROUTE                  object\n",
       "CD_LOCLN_ACCDN                  object\n",
       "CD_POSI_ACCDN                   object\n",
       "CD_CONFG_ROUTE                  object\n",
       "CD_ZON_TRAVX_ROUTR              object\n",
       "CD_COND_METEO                   object\n",
       "nb_automobile_camion_leger     float64\n",
       "nb_camionLourd_tractRoutier    float64\n",
       "nb_outil_equipement            float64\n",
       "nb_tous_autobus_minibus        float64\n",
       "nb_bicyclette                  float64\n",
       "nb_cyclomoteur                 float64\n",
       "nb_motocyclette                float64\n",
       "nb_taxi                        float64\n",
       "nb_urgence                     float64\n",
       "nb_motoneige                   float64\n",
       "nb_VHR                         float64\n",
       "nb_autres_types                float64\n",
       "nb_veh_non_precise             float64\n",
       "dtype: object"
      ]
     },
     "execution_count": 4,
     "metadata": {},
     "output_type": "execute_result"
    }
   ],
   "source": [
    "# Définition des variables qualitatives et quantitatives\n",
    "for col in df_data:\n",
    "      if col.startswith('CD_') or col.startswith('NO_') or col.startswith('TP_'): # Les attributs CD_ correspondent à des codes et non des variables quantitatives\n",
    "            df_data[col] = df_data[col].astype(str).replace('nan',np.nan)\n",
    "\n",
    "df_data.dtypes"
   ]
  },
  {
   "cell_type": "code",
   "execution_count": 5,
   "metadata": {
    "id": "uWO-s_4K73NT"
   },
   "outputs": [],
   "source": [
    "# Configuration de certains attributs\n",
    "\n",
    "#  Extraction du mois\n",
    "df_data['MOIS_ACCDN'] = pd.DatetimeIndex(df_data['DT_ACCDN']).month_name() \n",
    "df_data.drop(['DT_ACCDN'], axis=1, inplace=True)\n",
    "# Nouvelles categories pour GRAVITE\n",
    "df_data.replace({'gravite': {'Dommages matériels seulement':'Dommages_materiels', 'Dommages matériels inférieurs au seuil de rapportage':'Dommages_materiels','Léger': \"Leger\", 'Grave': 'Grave','Mortel': 'Mortel'} }, \n",
    "                               inplace = True)\n",
    "\n",
    "# Nouvelles categories pour TP_REPRR_ACCDN\n",
    "df_data.replace({'TP_REPRR_ACCDN': {'1.0':'Intersection', '2.0':'Autre_repere','0.0': \"Autre_repere\"} }, \n",
    "                               inplace = True)\n",
    "\n",
    "# Ajout de l'information sur le type d'accident (Créatio d'un nouvel attribut)\n",
    "code_collision_objet = [*range(38,59,1)]\n",
    "code_collision_animal = [35,36,37]\n",
    "code_collision_personne = [32,33]\n",
    "code_collision_sanscollision = [*range(71,99,1)]\n",
    "\n",
    "def category_genre_accdn(s):\n",
    "    if s == 'nan' or s != np.nan:\n",
    "        return \"Non_precise\" \n",
    "    elif int(float(s)) in code_collision_objet:\n",
    "        return \"Collision_objet\"\n",
    "    elif int(float(s)) in code_collision_animal:\n",
    "        return \"Collision_animal\"\n",
    "    elif int(float(s)) in code_collision_personne:\n",
    "        return \"Collision_personne\"\n",
    "    elif int(float(s)) in code_collision_sanscollision:\n",
    "        return \"Sans_collision\"\n",
    "    else:\n",
    "        return \"Non_precise\" \n",
    "df_data['CD_GENRE_ACCDN_CAT'] = df_data['CD_GENRE_ACCDN'].apply(category_genre_accdn)"
   ]
  },
  {
   "cell_type": "markdown",
   "metadata": {
    "id": "Uy-KP4aAzWJh"
   },
   "source": [
    "## Analyse des données manquantes"
   ]
  },
  {
   "cell_type": "code",
   "execution_count": 6,
   "metadata": {
    "colab": {
     "base_uri": "https://localhost:8080/",
     "height": 1209
    },
    "id": "8bu49jksLQNg",
    "outputId": "1155efe4-4360-4c60-9fa8-e661ff7fd39b"
   },
   "outputs": [
    {
     "data": {
      "text/html": [
       "<div>\n",
       "<style scoped>\n",
       "    .dataframe tbody tr th:only-of-type {\n",
       "        vertical-align: middle;\n",
       "    }\n",
       "\n",
       "    .dataframe tbody tr th {\n",
       "        vertical-align: top;\n",
       "    }\n",
       "\n",
       "    .dataframe thead th {\n",
       "        text-align: right;\n",
       "    }\n",
       "</style>\n",
       "<table border=\"1\" class=\"dataframe\">\n",
       "  <thead>\n",
       "    <tr style=\"text-align: right;\">\n",
       "      <th></th>\n",
       "      <th>attribut</th>\n",
       "      <th>nan_counts</th>\n",
       "      <th>nan_rate</th>\n",
       "    </tr>\n",
       "  </thead>\n",
       "  <tbody>\n",
       "    <tr>\n",
       "      <th>0</th>\n",
       "      <td>CD_ZON_TRAVX_ROUTR</td>\n",
       "      <td>92743</td>\n",
       "      <td>0.975339</td>\n",
       "    </tr>\n",
       "    <tr>\n",
       "      <th>1</th>\n",
       "      <td>CD_POSI_ACCDN</td>\n",
       "      <td>73835</td>\n",
       "      <td>0.776491</td>\n",
       "    </tr>\n",
       "    <tr>\n",
       "      <th>2</th>\n",
       "      <td>CD_ETAT_CHASS</td>\n",
       "      <td>72915</td>\n",
       "      <td>0.766816</td>\n",
       "    </tr>\n",
       "    <tr>\n",
       "      <th>3</th>\n",
       "      <td>NO_ROUTE</td>\n",
       "      <td>59831</td>\n",
       "      <td>0.629217</td>\n",
       "    </tr>\n",
       "    <tr>\n",
       "      <th>4</th>\n",
       "      <td>TP_REPRR_ACCDN</td>\n",
       "      <td>43600</td>\n",
       "      <td>0.458523</td>\n",
       "    </tr>\n",
       "    <tr>\n",
       "      <th>5</th>\n",
       "      <td>VITESSE_AUTOR</td>\n",
       "      <td>15604</td>\n",
       "      <td>0.164101</td>\n",
       "    </tr>\n",
       "    <tr>\n",
       "      <th>6</th>\n",
       "      <td>CD_LOCLN_ACCDN</td>\n",
       "      <td>5526</td>\n",
       "      <td>0.058115</td>\n",
       "    </tr>\n",
       "    <tr>\n",
       "      <th>7</th>\n",
       "      <td>CD_CONFG_ROUTE</td>\n",
       "      <td>4559</td>\n",
       "      <td>0.047945</td>\n",
       "    </tr>\n",
       "    <tr>\n",
       "      <th>8</th>\n",
       "      <td>CD_COND_METEO</td>\n",
       "      <td>1351</td>\n",
       "      <td>0.014208</td>\n",
       "    </tr>\n",
       "    <tr>\n",
       "      <th>9</th>\n",
       "      <td>CD_ECLRM</td>\n",
       "      <td>1325</td>\n",
       "      <td>0.013934</td>\n",
       "    </tr>\n",
       "    <tr>\n",
       "      <th>10</th>\n",
       "      <td>CD_ASPCT_ROUTE</td>\n",
       "      <td>1254</td>\n",
       "      <td>0.013188</td>\n",
       "    </tr>\n",
       "    <tr>\n",
       "      <th>11</th>\n",
       "      <td>CD_ETAT_SURFC</td>\n",
       "      <td>1190</td>\n",
       "      <td>0.012515</td>\n",
       "    </tr>\n",
       "    <tr>\n",
       "      <th>12</th>\n",
       "      <td>CD_GENRE_ACCDN</td>\n",
       "      <td>1151</td>\n",
       "      <td>0.012105</td>\n",
       "    </tr>\n",
       "    <tr>\n",
       "      <th>13</th>\n",
       "      <td>CD_ENVRN_ACCDN</td>\n",
       "      <td>1065</td>\n",
       "      <td>0.011200</td>\n",
       "    </tr>\n",
       "    <tr>\n",
       "      <th>14</th>\n",
       "      <td>CD_CATEG_ROUTE</td>\n",
       "      <td>865</td>\n",
       "      <td>0.009097</td>\n",
       "    </tr>\n",
       "    <tr>\n",
       "      <th>15</th>\n",
       "      <td>MRC</td>\n",
       "      <td>21</td>\n",
       "      <td>0.000221</td>\n",
       "    </tr>\n",
       "    <tr>\n",
       "      <th>16</th>\n",
       "      <td>REG_ADM</td>\n",
       "      <td>21</td>\n",
       "      <td>0.000221</td>\n",
       "    </tr>\n",
       "    <tr>\n",
       "      <th>17</th>\n",
       "      <td>CD_MUNCP</td>\n",
       "      <td>21</td>\n",
       "      <td>0.000221</td>\n",
       "    </tr>\n",
       "    <tr>\n",
       "      <th>18</th>\n",
       "      <td>nb_tous_autobus_minibus</td>\n",
       "      <td>6</td>\n",
       "      <td>0.000063</td>\n",
       "    </tr>\n",
       "    <tr>\n",
       "      <th>19</th>\n",
       "      <td>nb_motoneige</td>\n",
       "      <td>6</td>\n",
       "      <td>0.000063</td>\n",
       "    </tr>\n",
       "    <tr>\n",
       "      <th>20</th>\n",
       "      <td>nb_urgence</td>\n",
       "      <td>6</td>\n",
       "      <td>0.000063</td>\n",
       "    </tr>\n",
       "    <tr>\n",
       "      <th>21</th>\n",
       "      <td>nb_taxi</td>\n",
       "      <td>6</td>\n",
       "      <td>0.000063</td>\n",
       "    </tr>\n",
       "    <tr>\n",
       "      <th>22</th>\n",
       "      <td>nb_motocyclette</td>\n",
       "      <td>6</td>\n",
       "      <td>0.000063</td>\n",
       "    </tr>\n",
       "    <tr>\n",
       "      <th>23</th>\n",
       "      <td>nb_cyclomoteur</td>\n",
       "      <td>6</td>\n",
       "      <td>0.000063</td>\n",
       "    </tr>\n",
       "    <tr>\n",
       "      <th>24</th>\n",
       "      <td>nb_bicyclette</td>\n",
       "      <td>6</td>\n",
       "      <td>0.000063</td>\n",
       "    </tr>\n",
       "    <tr>\n",
       "      <th>25</th>\n",
       "      <td>nb_automobile_camion_leger</td>\n",
       "      <td>6</td>\n",
       "      <td>0.000063</td>\n",
       "    </tr>\n",
       "    <tr>\n",
       "      <th>26</th>\n",
       "      <td>nb_outil_equipement</td>\n",
       "      <td>6</td>\n",
       "      <td>0.000063</td>\n",
       "    </tr>\n",
       "    <tr>\n",
       "      <th>27</th>\n",
       "      <td>nb_camionLourd_tractRoutier</td>\n",
       "      <td>6</td>\n",
       "      <td>0.000063</td>\n",
       "    </tr>\n",
       "    <tr>\n",
       "      <th>28</th>\n",
       "      <td>NB_VEH_IMPLIQUES_ACCDN</td>\n",
       "      <td>6</td>\n",
       "      <td>0.000063</td>\n",
       "    </tr>\n",
       "    <tr>\n",
       "      <th>29</th>\n",
       "      <td>nb_veh_non_precise</td>\n",
       "      <td>6</td>\n",
       "      <td>0.000063</td>\n",
       "    </tr>\n",
       "    <tr>\n",
       "      <th>30</th>\n",
       "      <td>nb_autres_types</td>\n",
       "      <td>6</td>\n",
       "      <td>0.000063</td>\n",
       "    </tr>\n",
       "    <tr>\n",
       "      <th>31</th>\n",
       "      <td>nb_VHR</td>\n",
       "      <td>6</td>\n",
       "      <td>0.000063</td>\n",
       "    </tr>\n",
       "    <tr>\n",
       "      <th>32</th>\n",
       "      <td>MOIS_ACCDN</td>\n",
       "      <td>0</td>\n",
       "      <td>0.000000</td>\n",
       "    </tr>\n",
       "    <tr>\n",
       "      <th>33</th>\n",
       "      <td>HR_ACCDN</td>\n",
       "      <td>0</td>\n",
       "      <td>0.000000</td>\n",
       "    </tr>\n",
       "    <tr>\n",
       "      <th>34</th>\n",
       "      <td>JR_SEMN_ACCDN</td>\n",
       "      <td>0</td>\n",
       "      <td>0.000000</td>\n",
       "    </tr>\n",
       "    <tr>\n",
       "      <th>35</th>\n",
       "      <td>gravite</td>\n",
       "      <td>0</td>\n",
       "      <td>0.000000</td>\n",
       "    </tr>\n",
       "    <tr>\n",
       "      <th>36</th>\n",
       "      <td>CD_GENRE_ACCDN_CAT</td>\n",
       "      <td>0</td>\n",
       "      <td>0.000000</td>\n",
       "    </tr>\n",
       "  </tbody>\n",
       "</table>\n",
       "</div>"
      ],
      "text/plain": [
       "                       attribut  nan_counts  nan_rate\n",
       "0            CD_ZON_TRAVX_ROUTR       92743  0.975339\n",
       "1                 CD_POSI_ACCDN       73835  0.776491\n",
       "2                 CD_ETAT_CHASS       72915  0.766816\n",
       "3                      NO_ROUTE       59831  0.629217\n",
       "4                TP_REPRR_ACCDN       43600  0.458523\n",
       "5                 VITESSE_AUTOR       15604  0.164101\n",
       "6                CD_LOCLN_ACCDN        5526  0.058115\n",
       "7                CD_CONFG_ROUTE        4559  0.047945\n",
       "8                 CD_COND_METEO        1351  0.014208\n",
       "9                      CD_ECLRM        1325  0.013934\n",
       "10               CD_ASPCT_ROUTE        1254  0.013188\n",
       "11                CD_ETAT_SURFC        1190  0.012515\n",
       "12               CD_GENRE_ACCDN        1151  0.012105\n",
       "13               CD_ENVRN_ACCDN        1065  0.011200\n",
       "14               CD_CATEG_ROUTE         865  0.009097\n",
       "15                          MRC          21  0.000221\n",
       "16                      REG_ADM          21  0.000221\n",
       "17                     CD_MUNCP          21  0.000221\n",
       "18      nb_tous_autobus_minibus           6  0.000063\n",
       "19                 nb_motoneige           6  0.000063\n",
       "20                   nb_urgence           6  0.000063\n",
       "21                      nb_taxi           6  0.000063\n",
       "22              nb_motocyclette           6  0.000063\n",
       "23               nb_cyclomoteur           6  0.000063\n",
       "24                nb_bicyclette           6  0.000063\n",
       "25   nb_automobile_camion_leger           6  0.000063\n",
       "26          nb_outil_equipement           6  0.000063\n",
       "27  nb_camionLourd_tractRoutier           6  0.000063\n",
       "28       NB_VEH_IMPLIQUES_ACCDN           6  0.000063\n",
       "29           nb_veh_non_precise           6  0.000063\n",
       "30              nb_autres_types           6  0.000063\n",
       "31                       nb_VHR           6  0.000063\n",
       "32                   MOIS_ACCDN           0  0.000000\n",
       "33                     HR_ACCDN           0  0.000000\n",
       "34                JR_SEMN_ACCDN           0  0.000000\n",
       "35                      gravite           0  0.000000\n",
       "36           CD_GENRE_ACCDN_CAT           0  0.000000"
      ]
     },
     "execution_count": 6,
     "metadata": {},
     "output_type": "execute_result"
    }
   ],
   "source": [
    "# Calcul du nombre de données manquantes par attributs\n",
    "def get_nan_df(df):\n",
    "    '''\n",
    "      Fonction permettant de calculer le nombre et le taux de données manquantes\n",
    "      dans un dataframe\n",
    "\n",
    "      INPUT\n",
    "      -----\n",
    "      df : dataframe\n",
    "\n",
    "      OUTPUT\n",
    "      -----\n",
    "      dataframe avec la liste des attributs ('attribut'), le nombre de données manquantes ('nan_counts')\n",
    "      et le taux de données manquantes pour l'attribut ('nan_rate)\n",
    "    '''\n",
    "    col_names, nan_count, nan_rate = [], [], []\n",
    "    for col in df.columns:\n",
    "        col_names.append(col)\n",
    "        count_nan = df[col].isna().sum()\n",
    "        nan_count.append(count_nan)\n",
    "        nan_rate.append(count_nan/df[col].shape[0])\n",
    "  \n",
    "    df_nan = pd.DataFrame(list(zip(col_names, nan_count, nan_rate)), columns=['attribut', 'nan_counts', 'nan_rate'])\n",
    "    return df_nan.sort_values('nan_rate',ascending=False).reset_index(drop=True)\n",
    "\n",
    "df_nan = get_nan_df(df_data)\n",
    "df_nan"
   ]
  },
  {
   "cell_type": "code",
   "execution_count": 7,
   "metadata": {
    "colab": {
     "base_uri": "https://localhost:8080/",
     "height": 502
    },
    "id": "gyL5ndZdYkKE",
    "outputId": "aa2c62da-e4e5-4311-9157-5e15a95c9587"
   },
   "outputs": [
    {
     "data": {
      "image/png": "[encoded data removed]",
      "text/plain": [
       "<Figure size 432x288 with 1 Axes>"
      ]
     },
     "metadata": {
      "needs_background": "light"
     },
     "output_type": "display_data"
    }
   ],
   "source": [
    "fig = plt.figure()\n",
    "ax = fig.add_axes([0,0,1,1])\n",
    "ax.bar(df_nan['attribut'],df_nan['nan_counts'])\n",
    "plt.xticks(rotation=90)\n",
    "ax.set_ylabel('Données manquantes')\n",
    "ax.set_xlabel('Attributs')\n",
    "ax.set_title('Données manquantes par attribut')\n",
    "plt.show()"
   ]
  },
  {
   "cell_type": "markdown",
   "metadata": {
    "id": "NsSycWPoTpHe"
   },
   "source": [
    "### Cas \"Trop de données manquantes\": Suppression "
   ]
  },
  {
   "cell_type": "code",
   "execution_count": 8,
   "metadata": {
    "colab": {
     "base_uri": "https://localhost:8080/",
     "height": 0
    },
    "id": "CsC7ikKJRe05",
    "outputId": "f56c2ce0-1a8f-43f9-f21e-9ebf6f029e5e"
   },
   "outputs": [
    {
     "name": "stdout",
     "output_type": "stream",
     "text": [
      "Les attributs avec plus de 50% de données manquantes sont :  ['CD_ZON_TRAVX_ROUTR', 'CD_POSI_ACCDN', 'CD_ETAT_CHASS', 'NO_ROUTE']\n"
     ]
    },
    {
     "data": {
      "text/plain": [
       "HR_ACCDN                        object\n",
       "JR_SEMN_ACCDN                   object\n",
       "gravite                         object\n",
       "NB_VEH_IMPLIQUES_ACCDN         float64\n",
       "CD_MUNCP                        object\n",
       "REG_ADM                         object\n",
       "MRC                             object\n",
       "TP_REPRR_ACCDN                  object\n",
       "VITESSE_AUTOR                  float64\n",
       "CD_GENRE_ACCDN                  object\n",
       "CD_ETAT_SURFC                   object\n",
       "CD_ECLRM                        object\n",
       "CD_ENVRN_ACCDN                  object\n",
       "CD_CATEG_ROUTE                  object\n",
       "CD_ASPCT_ROUTE                  object\n",
       "CD_LOCLN_ACCDN                  object\n",
       "CD_CONFG_ROUTE                  object\n",
       "CD_COND_METEO                   object\n",
       "nb_automobile_camion_leger     float64\n",
       "nb_camionLourd_tractRoutier    float64\n",
       "nb_outil_equipement            float64\n",
       "nb_tous_autobus_minibus        float64\n",
       "nb_bicyclette                  float64\n",
       "nb_cyclomoteur                 float64\n",
       "nb_motocyclette                float64\n",
       "nb_taxi                        float64\n",
       "nb_urgence                     float64\n",
       "nb_motoneige                   float64\n",
       "nb_VHR                         float64\n",
       "nb_autres_types                float64\n",
       "nb_veh_non_precise             float64\n",
       "MOIS_ACCDN                      object\n",
       "CD_GENRE_ACCDN_CAT              object\n",
       "dtype: object"
      ]
     },
     "execution_count": 8,
     "metadata": {},
     "output_type": "execute_result"
    }
   ],
   "source": [
    "# Suppression des attributs avec plus de 50% de données manquantes\n",
    "NAN_RATE_MAX = 0.5\n",
    "attr_many_nan = list(df_nan.loc[df_nan['nan_rate'] > NAN_RATE_MAX, 'attribut'])\n",
    "print('Les attributs avec plus de 50% de données manquantes sont : ',attr_many_nan)\n",
    "df_data.drop(attr_many_nan, axis=1, inplace=True)\n",
    "df_data.dtypes"
   ]
  },
  {
   "cell_type": "code",
   "execution_count": 9,
   "metadata": {
    "colab": {
     "base_uri": "https://localhost:8080/",
     "height": 0
    },
    "id": "QY8qZBXLza_8",
    "outputId": "8ba751ad-3862-4a12-fc14-33325f8fd741"
   },
   "outputs": [
    {
     "name": "stdout",
     "output_type": "stream",
     "text": [
      "Int64Index([5492, 11446, 12644, 41468, 41772, 46627], dtype='int64')\n"
     ]
    },
    {
     "data": {
      "text/plain": [
       "(95082, 33)"
      ]
     },
     "execution_count": 9,
     "metadata": {},
     "output_type": "execute_result"
    }
   ],
   "source": [
    "# Supprimer les accidents dont on a moins de 33% des informations\n",
    "ROW_NAN_RATE = 0.33\n",
    "percent_row = df_data.count(axis=1)/ len(df_data.columns)\n",
    "index_row = percent_row[percent_row < ROW_NAN_RATE].index\n",
    "print(index_row)\n",
    "if len(index_row) > 0:\n",
    "    for i in range(len(index_row)):\n",
    "        df_data.drop([index_row[i]], inplace=True)\n",
    "df_data.shape"
   ]
  },
  {
   "cell_type": "markdown",
   "metadata": {
    "id": "sSGYxeJJT1LH"
   },
   "source": [
    "### Cas \"Quelques données manquantes\" : Remplissage"
   ]
  },
  {
   "cell_type": "code",
   "execution_count": 10,
   "metadata": {
    "colab": {
     "base_uri": "https://localhost:8080/",
     "height": 0
    },
    "id": "pe8gkOmy9bBg",
    "outputId": "55608ab8-9d4b-4047-f029-97ea9851fa4e"
   },
   "outputs": [
    {
     "data": {
      "text/plain": [
       "(95082, 33)"
      ]
     },
     "execution_count": 10,
     "metadata": {},
     "output_type": "execute_result"
    }
   ],
   "source": [
    "gb = df_data.groupby('gravite')    \n",
    "test = [gb.get_group(x) for x in gb.groups]\n",
    "test[1].head()\n",
    "test_2 = pd.concat(test, axis=0)\n",
    "test_2.shape"
   ]
  },
  {
   "cell_type": "code",
   "execution_count": 11,
   "metadata": {
    "colab": {
     "base_uri": "https://localhost:8080/",
     "height": 1083
    },
    "id": "4NoPUUNUT9uU",
    "outputId": "0286eaea-2d3c-473b-b191-d03702954a17"
   },
   "outputs": [
    {
     "data": {
      "text/html": [
       "<div>\n",
       "<style scoped>\n",
       "    .dataframe tbody tr th:only-of-type {\n",
       "        vertical-align: middle;\n",
       "    }\n",
       "\n",
       "    .dataframe tbody tr th {\n",
       "        vertical-align: top;\n",
       "    }\n",
       "\n",
       "    .dataframe thead th {\n",
       "        text-align: right;\n",
       "    }\n",
       "</style>\n",
       "<table border=\"1\" class=\"dataframe\">\n",
       "  <thead>\n",
       "    <tr style=\"text-align: right;\">\n",
       "      <th></th>\n",
       "      <th>attribut</th>\n",
       "      <th>nan_counts</th>\n",
       "      <th>nan_rate</th>\n",
       "    </tr>\n",
       "  </thead>\n",
       "  <tbody>\n",
       "    <tr>\n",
       "      <th>0</th>\n",
       "      <td>HR_ACCDN</td>\n",
       "      <td>0</td>\n",
       "      <td>0.0</td>\n",
       "    </tr>\n",
       "    <tr>\n",
       "      <th>1</th>\n",
       "      <td>CD_COND_METEO</td>\n",
       "      <td>0</td>\n",
       "      <td>0.0</td>\n",
       "    </tr>\n",
       "    <tr>\n",
       "      <th>2</th>\n",
       "      <td>MOIS_ACCDN</td>\n",
       "      <td>0</td>\n",
       "      <td>0.0</td>\n",
       "    </tr>\n",
       "    <tr>\n",
       "      <th>3</th>\n",
       "      <td>nb_veh_non_precise</td>\n",
       "      <td>0</td>\n",
       "      <td>0.0</td>\n",
       "    </tr>\n",
       "    <tr>\n",
       "      <th>4</th>\n",
       "      <td>nb_autres_types</td>\n",
       "      <td>0</td>\n",
       "      <td>0.0</td>\n",
       "    </tr>\n",
       "    <tr>\n",
       "      <th>5</th>\n",
       "      <td>nb_VHR</td>\n",
       "      <td>0</td>\n",
       "      <td>0.0</td>\n",
       "    </tr>\n",
       "    <tr>\n",
       "      <th>6</th>\n",
       "      <td>nb_motoneige</td>\n",
       "      <td>0</td>\n",
       "      <td>0.0</td>\n",
       "    </tr>\n",
       "    <tr>\n",
       "      <th>7</th>\n",
       "      <td>nb_urgence</td>\n",
       "      <td>0</td>\n",
       "      <td>0.0</td>\n",
       "    </tr>\n",
       "    <tr>\n",
       "      <th>8</th>\n",
       "      <td>nb_taxi</td>\n",
       "      <td>0</td>\n",
       "      <td>0.0</td>\n",
       "    </tr>\n",
       "    <tr>\n",
       "      <th>9</th>\n",
       "      <td>nb_motocyclette</td>\n",
       "      <td>0</td>\n",
       "      <td>0.0</td>\n",
       "    </tr>\n",
       "    <tr>\n",
       "      <th>10</th>\n",
       "      <td>nb_cyclomoteur</td>\n",
       "      <td>0</td>\n",
       "      <td>0.0</td>\n",
       "    </tr>\n",
       "    <tr>\n",
       "      <th>11</th>\n",
       "      <td>nb_bicyclette</td>\n",
       "      <td>0</td>\n",
       "      <td>0.0</td>\n",
       "    </tr>\n",
       "    <tr>\n",
       "      <th>12</th>\n",
       "      <td>nb_tous_autobus_minibus</td>\n",
       "      <td>0</td>\n",
       "      <td>0.0</td>\n",
       "    </tr>\n",
       "    <tr>\n",
       "      <th>13</th>\n",
       "      <td>nb_outil_equipement</td>\n",
       "      <td>0</td>\n",
       "      <td>0.0</td>\n",
       "    </tr>\n",
       "    <tr>\n",
       "      <th>14</th>\n",
       "      <td>nb_camionLourd_tractRoutier</td>\n",
       "      <td>0</td>\n",
       "      <td>0.0</td>\n",
       "    </tr>\n",
       "    <tr>\n",
       "      <th>15</th>\n",
       "      <td>nb_automobile_camion_leger</td>\n",
       "      <td>0</td>\n",
       "      <td>0.0</td>\n",
       "    </tr>\n",
       "    <tr>\n",
       "      <th>16</th>\n",
       "      <td>CD_CONFG_ROUTE</td>\n",
       "      <td>0</td>\n",
       "      <td>0.0</td>\n",
       "    </tr>\n",
       "    <tr>\n",
       "      <th>17</th>\n",
       "      <td>JR_SEMN_ACCDN</td>\n",
       "      <td>0</td>\n",
       "      <td>0.0</td>\n",
       "    </tr>\n",
       "    <tr>\n",
       "      <th>18</th>\n",
       "      <td>CD_LOCLN_ACCDN</td>\n",
       "      <td>0</td>\n",
       "      <td>0.0</td>\n",
       "    </tr>\n",
       "    <tr>\n",
       "      <th>19</th>\n",
       "      <td>CD_ASPCT_ROUTE</td>\n",
       "      <td>0</td>\n",
       "      <td>0.0</td>\n",
       "    </tr>\n",
       "    <tr>\n",
       "      <th>20</th>\n",
       "      <td>CD_CATEG_ROUTE</td>\n",
       "      <td>0</td>\n",
       "      <td>0.0</td>\n",
       "    </tr>\n",
       "    <tr>\n",
       "      <th>21</th>\n",
       "      <td>CD_ENVRN_ACCDN</td>\n",
       "      <td>0</td>\n",
       "      <td>0.0</td>\n",
       "    </tr>\n",
       "    <tr>\n",
       "      <th>22</th>\n",
       "      <td>CD_ECLRM</td>\n",
       "      <td>0</td>\n",
       "      <td>0.0</td>\n",
       "    </tr>\n",
       "    <tr>\n",
       "      <th>23</th>\n",
       "      <td>CD_ETAT_SURFC</td>\n",
       "      <td>0</td>\n",
       "      <td>0.0</td>\n",
       "    </tr>\n",
       "    <tr>\n",
       "      <th>24</th>\n",
       "      <td>CD_GENRE_ACCDN</td>\n",
       "      <td>0</td>\n",
       "      <td>0.0</td>\n",
       "    </tr>\n",
       "    <tr>\n",
       "      <th>25</th>\n",
       "      <td>VITESSE_AUTOR</td>\n",
       "      <td>0</td>\n",
       "      <td>0.0</td>\n",
       "    </tr>\n",
       "    <tr>\n",
       "      <th>26</th>\n",
       "      <td>TP_REPRR_ACCDN</td>\n",
       "      <td>0</td>\n",
       "      <td>0.0</td>\n",
       "    </tr>\n",
       "    <tr>\n",
       "      <th>27</th>\n",
       "      <td>MRC</td>\n",
       "      <td>0</td>\n",
       "      <td>0.0</td>\n",
       "    </tr>\n",
       "    <tr>\n",
       "      <th>28</th>\n",
       "      <td>REG_ADM</td>\n",
       "      <td>0</td>\n",
       "      <td>0.0</td>\n",
       "    </tr>\n",
       "    <tr>\n",
       "      <th>29</th>\n",
       "      <td>CD_MUNCP</td>\n",
       "      <td>0</td>\n",
       "      <td>0.0</td>\n",
       "    </tr>\n",
       "    <tr>\n",
       "      <th>30</th>\n",
       "      <td>NB_VEH_IMPLIQUES_ACCDN</td>\n",
       "      <td>0</td>\n",
       "      <td>0.0</td>\n",
       "    </tr>\n",
       "    <tr>\n",
       "      <th>31</th>\n",
       "      <td>gravite</td>\n",
       "      <td>0</td>\n",
       "      <td>0.0</td>\n",
       "    </tr>\n",
       "    <tr>\n",
       "      <th>32</th>\n",
       "      <td>CD_GENRE_ACCDN_CAT</td>\n",
       "      <td>0</td>\n",
       "      <td>0.0</td>\n",
       "    </tr>\n",
       "  </tbody>\n",
       "</table>\n",
       "</div>"
      ],
      "text/plain": [
       "                       attribut  nan_counts  nan_rate\n",
       "0                      HR_ACCDN           0       0.0\n",
       "1                 CD_COND_METEO           0       0.0\n",
       "2                    MOIS_ACCDN           0       0.0\n",
       "3            nb_veh_non_precise           0       0.0\n",
       "4               nb_autres_types           0       0.0\n",
       "5                        nb_VHR           0       0.0\n",
       "6                  nb_motoneige           0       0.0\n",
       "7                    nb_urgence           0       0.0\n",
       "8                       nb_taxi           0       0.0\n",
       "9               nb_motocyclette           0       0.0\n",
       "10               nb_cyclomoteur           0       0.0\n",
       "11                nb_bicyclette           0       0.0\n",
       "12      nb_tous_autobus_minibus           0       0.0\n",
       "13          nb_outil_equipement           0       0.0\n",
       "14  nb_camionLourd_tractRoutier           0       0.0\n",
       "15   nb_automobile_camion_leger           0       0.0\n",
       "16               CD_CONFG_ROUTE           0       0.0\n",
       "17                JR_SEMN_ACCDN           0       0.0\n",
       "18               CD_LOCLN_ACCDN           0       0.0\n",
       "19               CD_ASPCT_ROUTE           0       0.0\n",
       "20               CD_CATEG_ROUTE           0       0.0\n",
       "21               CD_ENVRN_ACCDN           0       0.0\n",
       "22                     CD_ECLRM           0       0.0\n",
       "23                CD_ETAT_SURFC           0       0.0\n",
       "24               CD_GENRE_ACCDN           0       0.0\n",
       "25                VITESSE_AUTOR           0       0.0\n",
       "26               TP_REPRR_ACCDN           0       0.0\n",
       "27                          MRC           0       0.0\n",
       "28                      REG_ADM           0       0.0\n",
       "29                     CD_MUNCP           0       0.0\n",
       "30       NB_VEH_IMPLIQUES_ACCDN           0       0.0\n",
       "31                      gravite           0       0.0\n",
       "32           CD_GENRE_ACCDN_CAT           0       0.0"
      ]
     },
     "execution_count": 11,
     "metadata": {},
     "output_type": "execute_result"
    }
   ],
   "source": [
    "def fill_missing_values(df):\n",
    "    '''\n",
    "      Fonction permettant de remplacer les données manquantes dans un dataframe\n",
    "    \n",
    "      INPUT\n",
    "      -----\n",
    "      df : dataframe\n",
    "\n",
    "      OUTPUT\n",
    "      -----\n",
    "      dataframe rempli avec la valeur médiane pour les attributs quantitatifs et la valeur la plus fréquence \n",
    "      pour les attributs catégoriques\n",
    "    '''\n",
    "    for col in df.columns:\n",
    "        if df[col].dtype == 'float64':\n",
    "            df[col].fillna(df[col].median(), inplace=True)\n",
    "        elif df[col].dtype == 'object':\n",
    "            df[col].fillna(df[col].mode()[0], inplace=True)\n",
    "    return df\n",
    "\n",
    "\n",
    "def fill_missing_values_by_cat(df, output='gravite'):\n",
    "    '''\n",
    "      Fonction permettant de remplacer les données manquantes dans un dataframe par selon la catégorie de la variable de sortie\n",
    "\n",
    "      INPUT\n",
    "      -----\n",
    "      df : dataframe\n",
    "      output : colonne contenant les catégories\n",
    "\n",
    "      OUTPUT\n",
    "      -----\n",
    "      dataframe rempli avec la valeur médiane pour les attributs quantitatifs et la valeur la plus fréquence \n",
    "      pour les attributs catégoriques selon la classe de l'observation\n",
    "    '''\n",
    "    df_category = df_data.groupby(output)    \n",
    "    df_by_output = [df_category.get_group(x) for x in df_category.groups]\n",
    "    L = []\n",
    "    for df_group in df_by_output:\n",
    "        d = df_group.copy()\n",
    "        L.append(fill_missing_values(d))\n",
    "\n",
    "    df = pd.concat(L, axis=0)\n",
    "    return df\n",
    "\n",
    "df_data = fill_missing_values(df_data) # Finalement on utilisera pas le remplissage selon la classe car les résultats sont moins bons.\n",
    "get_nan_df(df_data)\n"
   ]
  },
  {
   "cell_type": "markdown",
   "metadata": {
    "id": "qJCf2RD_zcPl"
   },
   "source": [
    "## Analyse des données aberrantes"
   ]
  },
  {
   "cell_type": "code",
   "execution_count": 12,
   "metadata": {
    "colab": {
     "base_uri": "https://localhost:8080/",
     "height": 519
    },
    "id": "xLnyJD_Nb4zD",
    "outputId": "8f71f302-757c-4302-9596-c41a31d043f7"
   },
   "outputs": [
    {
     "data": {
      "text/html": [
       "<div>\n",
       "<style scoped>\n",
       "    .dataframe tbody tr th:only-of-type {\n",
       "        vertical-align: middle;\n",
       "    }\n",
       "\n",
       "    .dataframe tbody tr th {\n",
       "        vertical-align: top;\n",
       "    }\n",
       "\n",
       "    .dataframe thead th {\n",
       "        text-align: right;\n",
       "    }\n",
       "</style>\n",
       "<table border=\"1\" class=\"dataframe\">\n",
       "  <thead>\n",
       "    <tr style=\"text-align: right;\">\n",
       "      <th></th>\n",
       "      <th>attribut</th>\n",
       "      <th>n_outliers</th>\n",
       "    </tr>\n",
       "  </thead>\n",
       "  <tbody>\n",
       "    <tr>\n",
       "      <th>0</th>\n",
       "      <td>nb_camionLourd_tractRoutier</td>\n",
       "      <td>11315</td>\n",
       "    </tr>\n",
       "    <tr>\n",
       "      <th>1</th>\n",
       "      <td>nb_veh_non_precise</td>\n",
       "      <td>4812</td>\n",
       "    </tr>\n",
       "    <tr>\n",
       "      <th>2</th>\n",
       "      <td>nb_urgence</td>\n",
       "      <td>2040</td>\n",
       "    </tr>\n",
       "    <tr>\n",
       "      <th>3</th>\n",
       "      <td>nb_motocyclette</td>\n",
       "      <td>1990</td>\n",
       "    </tr>\n",
       "    <tr>\n",
       "      <th>4</th>\n",
       "      <td>nb_outil_equipement</td>\n",
       "      <td>1910</td>\n",
       "    </tr>\n",
       "    <tr>\n",
       "      <th>5</th>\n",
       "      <td>nb_bicyclette</td>\n",
       "      <td>1645</td>\n",
       "    </tr>\n",
       "    <tr>\n",
       "      <th>6</th>\n",
       "      <td>nb_tous_autobus_minibus</td>\n",
       "      <td>1136</td>\n",
       "    </tr>\n",
       "    <tr>\n",
       "      <th>7</th>\n",
       "      <td>NB_VEH_IMPLIQUES_ACCDN</td>\n",
       "      <td>1065</td>\n",
       "    </tr>\n",
       "    <tr>\n",
       "      <th>8</th>\n",
       "      <td>nb_automobile_camion_leger</td>\n",
       "      <td>810</td>\n",
       "    </tr>\n",
       "    <tr>\n",
       "      <th>9</th>\n",
       "      <td>nb_taxi</td>\n",
       "      <td>687</td>\n",
       "    </tr>\n",
       "    <tr>\n",
       "      <th>10</th>\n",
       "      <td>nb_autres_types</td>\n",
       "      <td>624</td>\n",
       "    </tr>\n",
       "    <tr>\n",
       "      <th>11</th>\n",
       "      <td>nb_cyclomoteur</td>\n",
       "      <td>592</td>\n",
       "    </tr>\n",
       "    <tr>\n",
       "      <th>12</th>\n",
       "      <td>VITESSE_AUTOR</td>\n",
       "      <td>350</td>\n",
       "    </tr>\n",
       "    <tr>\n",
       "      <th>13</th>\n",
       "      <td>nb_VHR</td>\n",
       "      <td>142</td>\n",
       "    </tr>\n",
       "    <tr>\n",
       "      <th>14</th>\n",
       "      <td>nb_motoneige</td>\n",
       "      <td>89</td>\n",
       "    </tr>\n",
       "  </tbody>\n",
       "</table>\n",
       "</div>"
      ],
      "text/plain": [
       "                       attribut  n_outliers\n",
       "0   nb_camionLourd_tractRoutier       11315\n",
       "1            nb_veh_non_precise        4812\n",
       "2                    nb_urgence        2040\n",
       "3               nb_motocyclette        1990\n",
       "4           nb_outil_equipement        1910\n",
       "5                 nb_bicyclette        1645\n",
       "6       nb_tous_autobus_minibus        1136\n",
       "7        NB_VEH_IMPLIQUES_ACCDN        1065\n",
       "8    nb_automobile_camion_leger         810\n",
       "9                       nb_taxi         687\n",
       "10              nb_autres_types         624\n",
       "11               nb_cyclomoteur         592\n",
       "12                VITESSE_AUTOR         350\n",
       "13                       nb_VHR         142\n",
       "14                 nb_motoneige          89"
      ]
     },
     "execution_count": 12,
     "metadata": {},
     "output_type": "execute_result"
    }
   ],
   "source": [
    "# ICI la détection est biaisée. Je ne pense pas qu'il s'agisse de données aberrantes. \n",
    "# Au contraire, elles sont sans doute révélatrice d'un accident\n",
    "# De toute manière, les arbres sont robustes aux outliers\n",
    "\n",
    "def compute_iqr(x):\n",
    "    '''\n",
    "      Fonction de calculer l'écart interquartile\n",
    "\n",
    "      INPUT\n",
    "      -----\n",
    "      x : une colonne correspondant à une colonne d'un dataframe\n",
    "\n",
    "      OUTPUT\n",
    "      -----\n",
    "      iqr : l'écart interquartile\n",
    "    '''\n",
    "    return np.subtract(*np.percentile(x, [75, 25])) \n",
    "\n",
    "def check_outliers(df):\n",
    "    '''\n",
    "      Fonction appliquant la méthode IQR pour la détection de données aberrantes\n",
    "      Toute valeur située en dehors de la plage de valeur [Q1 - 1.5*IQR; Q3 + 1.5*IQR] \n",
    "      est considéré comme une donnée aberrante.\n",
    "\n",
    "      INPUT\n",
    "      -----\n",
    "      df : un dataframe\n",
    "\n",
    "      OUTPUT\n",
    "      -----\n",
    "      df_outliers : Dataframe avec la liste des attributs ('attributs') \n",
    "      et le nombre de données jugées aberrantes ('n_outliers')\n",
    "    '''\n",
    "    numerical_col = df.select_dtypes(include=\"float64\")\n",
    "    iqr = numerical_col.apply(compute_iqr)\n",
    "    df_iqr = pd.DataFrame({'col':iqr.index, 'IQR':iqr.values})\n",
    "    col_names, n_outliers = [], []\n",
    "    for col in numerical_col:\n",
    "        iqr_value_col = df_iqr[df_iqr['col'] == col]['IQR'].values[0]\n",
    "        #if iqr_value_col != 0:\n",
    "        Q1, Q3 = pd.DataFrame(df[col].quantile([0.25,0.75])).values[0][0], pd.DataFrame(df[col].quantile([0.25,0.75])).values[1][0]\n",
    "        n_outliers.append(numerical_col[col][~numerical_col[col].between(Q1-1.5*iqr_value_col, Q3+1.5*iqr_value_col)].count())\n",
    "        #else : \n",
    "          #n_outliers.append(0)\n",
    "        col_names.append(col)\n",
    "  \n",
    "    df_outliers = pd.DataFrame(list(zip(col_names, n_outliers)), columns=['attribut', 'n_outliers'])\n",
    "    return df_outliers.sort_values('n_outliers',ascending=False).reset_index(drop=True)\n",
    "\n",
    "check_outliers(df_data)"
   ]
  },
  {
   "cell_type": "markdown",
   "metadata": {
    "id": "COWWbkQsz0ru"
   },
   "source": [
    "## Données corrélées"
   ]
  },
  {
   "cell_type": "code",
   "execution_count": 13,
   "metadata": {
    "colab": {
     "base_uri": "https://localhost:8080/",
     "height": 406
    },
    "id": "BnUFYOlSefgh",
    "outputId": "22920794-82c3-45cd-98b8-5f26665eb895"
   },
   "outputs": [
    {
     "data": {
      "image/png": "[encoded data removed]",
      "text/plain": [
       "<Figure size 432x288 with 2 Axes>"
      ]
     },
     "metadata": {
      "needs_background": "light"
     },
     "output_type": "display_data"
    }
   ],
   "source": [
    "# Evaluation de la corrélation entre les attributs\n",
    "\n",
    "corr_df = df_data.copy()\n",
    "enc = LabelEncoder()\n",
    "for col in corr_df.columns:\n",
    "    if corr_df[col].dtype == 'object':\n",
    "        corr_df[col] = enc.fit_transform(corr_df[col]) # Encodage pour les données catégoriques\n",
    "\n",
    "corr = corr_df.iloc[:, :-1].corr()\n",
    "# Heatmap pour visualiser les corrélations\n",
    "sns.heatmap(corr, xticklabels=corr.columns,yticklabels=corr.columns)\n",
    "plt.show()"
   ]
  },
  {
   "cell_type": "markdown",
   "metadata": {
    "id": "9hDBxEvEzoCz"
   },
   "source": [
    "# Développement des modèles"
   ]
  },
  {
   "cell_type": "markdown",
   "metadata": {
    "id": "YZ1WXMjpJKwK"
   },
   "source": [
    "## Vérifier l'équilibre des classes\n",
    "On remarque dans l'histogramme ci-dessous que les classes sont grandement déséquilibrées. En effet, la classe des accidents \"Dommages_materiels\" est dominante par rapport aux autres : de 70 000 accidents contre ~19 000 accidents \"Légers\" puis le reste est partagé entre accidents \"Graves\" et \"Mortels\".\n",
    "\n",
    "Pour palier à ce déséquilibre, nous utiliserons une pondération dans nos modèles pour rééquilibrer nos classes. En effet, notre objectif n'est pas seulement de prédire la gravité de l'accident (auquel cas on risquerait de prédire dans la grande majorité des cas un accident avec dommages matériels) mais également de bien mettre en évidence les caractériques de chaque type d'accident. "
   ]
  },
  {
   "cell_type": "code",
   "execution_count": 14,
   "metadata": {
    "colab": {
     "base_uri": "https://localhost:8080/",
     "height": 309
    },
    "id": "sXiGQpHpJT71",
    "outputId": "7cdb13c1-6b7f-40b4-d3d9-5fd8011d694e"
   },
   "outputs": [
    {
     "data": {
      "image/png": "[encoded data removed]",
      "text/plain": [
       "<Figure size 432x288 with 1 Axes>"
      ]
     },
     "metadata": {
      "needs_background": "light"
     },
     "output_type": "display_data"
    }
   ],
   "source": [
    "# Affichage d'un histogramme pour évaluer l'équilibre entre les classes\n",
    "class_hist = df_data[\"gravite\"].hist()\n",
    "plt.suptitle(\"Histogramme des classes d'accidents\")\n",
    "plt.ylabel(\"Nombre d'accidents\")\n",
    "plt.xlabel(\"Classes\")\n",
    "plt.show()"
   ]
  },
  {
   "cell_type": "markdown",
   "metadata": {
    "id": "Hotrb5Zi4hhD"
   },
   "source": [
    "## Sets d'Entrainement/Test"
   ]
  },
  {
   "cell_type": "code",
   "execution_count": 15,
   "metadata": {
    "id": "zdkEcmt64paQ"
   },
   "outputs": [],
   "source": [
    "from sklearn import preprocessing\n",
    "def split_dataset(df, test_size, output_col='gravite', encoding='OneHot', set_seed=None):\n",
    "    '''\n",
    "      Fonction pour diviser le dataset en set d'entrainement et set de test.\n",
    "\n",
    "      INPUTS\n",
    "      -----\n",
    "      df : un dataframe\n",
    "      test_size : le % de taille du set de test\n",
    "      output_col : la colonne correspondant à la variable de sortie\n",
    "      encoding : 'None' pour pas d'encodage. 'Onehot' pour un encodage one-hot. 'LabelEncoder' pour un encodage numérique. \n",
    "      set_seed : Seed permettant la reproductibilité du résultat\n",
    "\n",
    "      OUTPUTS\n",
    "      -----\n",
    "      X : dataframe contenant l'ensemble des prédicteurs\n",
    "      Y : dataframe contenant uniquement la variable de sortie\n",
    "      X_train : dataframe d'entrainement contenant les prédicteurs\n",
    "      Y_train : dataframe d'entrainement contenant la variable de sortie\n",
    "      X_test : dataframe de test contenant les prédicteurs\n",
    "      Y_test : dataframe de test contenant la variable de sortie\n",
    "    '''\n",
    "    if encoding == 'LabelEncoder':\n",
    "        cat_col = df.select_dtypes(include=\"object\")\n",
    "        Label_encoder = preprocessing.LabelEncoder()\n",
    "        for col in cat_col:\n",
    "            if col != output_col:\n",
    "                df[col] = Label_encoder.fit_transform(df[col])\n",
    "\n",
    "    Y = df[output_col]\n",
    "    X = df.loc[:, df.columns != output_col]\n",
    "\n",
    "    if encoding == 'OneHot':\n",
    "        X = pd.get_dummies(X,drop_first=True)\n",
    "\n",
    "    # Division du dataset en set d'entrainement et de test\n",
    "    if set_seed is not None:\n",
    "        X_train, X_test, Y_train, Y_test = train_test_split(X, Y, test_size = test_size, random_state=set_seed)\n",
    "    else:\n",
    "        X_train, X_test, Y_train, Y_test = train_test_split(X, Y, test_size = test_size)\n",
    "  \n",
    "    #X_train, X_test = pd.get_dummies(X_train), pd.get_dummies(X_test)\n",
    "    return X, Y, X_train, X_test, Y_train, Y_test\n",
    "\n",
    "X, Y, X_train, X_test, Y_train, Y_test = split_dataset(df_data, 0.30, 'gravite',encoding='OneHot', set_seed=204)"
   ]
  },
  {
   "cell_type": "markdown",
   "metadata": {
    "id": "F0lbe7QDzsX9"
   },
   "source": [
    "## Arbre de décision"
   ]
  },
  {
   "cell_type": "code",
   "execution_count": 16,
   "metadata": {
    "colab": {
     "base_uri": "https://localhost:8080/",
     "height": 0
    },
    "id": "D-L-Clt1zuX3",
    "outputId": "df047308-3393-497e-f225-aa3c451c2634"
   },
   "outputs": [
    {
     "name": "stdout",
     "output_type": "stream",
     "text": [
      "... CV avec une profondeur max de = 2 ...\n",
      "... CV avec une profondeur max de = 3 ...\n",
      "... CV avec une profondeur max de = 4 ...\n",
      "... CV avec une profondeur max de = 5 ...\n",
      "... CV avec une profondeur max de = 6 ...\n",
      "... CV avec une profondeur max de = 7 ...\n",
      "... CV avec une profondeur max de = 8 ...\n",
      "... CV avec une profondeur max de = 9 ...\n",
      "Done.\n"
     ]
    }
   ],
   "source": [
    "# Réalisation d'une validation croisée afin d'obtenir la profondeur d'arbre optimale\n",
    "kf = KFold(n_splits=5)\n",
    "\n",
    "depth = []\n",
    "#X_one_hot_data = pd.get_dummies(X,drop_first=True)\n",
    "for i in range(2,10,1):\n",
    "    print(\"... CV avec une profondeur max de =\", i,\"...\")\n",
    "    decision_tree = tree.DecisionTreeClassifier(criterion = 'gini', max_depth=i, min_samples_leaf=1, class_weight='balanced',random_state=2)\n",
    "    # Perform 5-fold cross validation \n",
    "    scores = cross_val_score(decision_tree,X,Y, cv=kf, scoring='precision_micro',n_jobs=4)\n",
    "    depth.append((i,scores.mean()))\n",
    "print(\"Done.\")"
   ]
  },
  {
   "cell_type": "code",
   "execution_count": 17,
   "metadata": {
    "colab": {
     "base_uri": "https://localhost:8080/",
     "height": 0
    },
    "id": "QXwjaQakK5tN",
    "outputId": "aba8ae96-2a2d-4dd8-e473-b5c97c19e8e8"
   },
   "outputs": [
    {
     "name": "stdout",
     "output_type": "stream",
     "text": [
      "   depth  precision\n",
      "0      2   0.456312\n",
      "1      3   0.573512\n",
      "2      4   0.609924\n",
      "3      5   0.607549\n",
      "4      6   0.555173\n",
      "5      7   0.524157\n",
      "6      8   0.567634\n",
      "7      9   0.525934\n"
     ]
    }
   ],
   "source": [
    "depth_score = pd.DataFrame(depth, columns=['depth', 'precision'])\n",
    "print(depth_score)"
   ]
  },
  {
   "cell_type": "code",
   "execution_count": 18,
   "metadata": {
    "colab": {
     "base_uri": "https://localhost:8080/",
     "height": 312
    },
    "id": "g6uSH8J9LtWC",
    "outputId": "76a00800-9991-4ec6-abf0-f4a9c0df465e"
   },
   "outputs": [
    {
     "data": {
      "image/png": "[encoded data removed]",
      "text/plain": [
       "<Figure size 432x288 with 1 Axes>"
      ]
     },
     "metadata": {
      "needs_background": "light"
     },
     "output_type": "display_data"
    },
    {
     "name": "stdout",
     "output_type": "stream",
     "text": [
      "La valeur optimal pour la profondeur est de 4 avec une précision de : 60.99 %\n"
     ]
    }
   ],
   "source": [
    "# Affichage du résultat de la validation croisée\n",
    "plt.plot(depth_score['depth'],1/depth_score['precision'], '-o')\n",
    "plt.xlabel(\"Depth\")\n",
    "plt.ylabel(\"1/Accuracy\")\n",
    "plt.title(\"Validation croisée : (1/precision) en fonction de la profondeur de l'arbre\")\n",
    "plt.show()\n",
    "\n",
    "depth_optim, depth_optim_precision = depth_score[depth_score.precision == depth_score.precision.max()]['depth'].values[0], depth_score[depth_score.precision == depth_score.precision.max()]['precision'].values[0]\n",
    "\n",
    "print(\"La valeur optimal pour la profondeur est de\", depth_optim,\"avec une précision de :\", round(depth_optim_precision*100, 2), \"%\")"
   ]
  },
  {
   "cell_type": "code",
   "execution_count": 19,
   "metadata": {
    "colab": {
     "base_uri": "https://localhost:8080/",
     "height": 1084
    },
    "id": "IChWJzqB85jb",
    "outputId": "9a41e989-ef1c-4c6e-d259-48329a705857"
   },
   "outputs": [
    {
     "name": "stdout",
     "output_type": "stream",
     "text": [
      "\n",
      "--------------- Learning performances -----------------------\n",
      "\n",
      "Confusion Matrix: \n",
      "\n"
     ]
    },
    {
     "data": {
      "image/png": "[encoded data removed]",
      "text/plain": [
       "<Figure size 360x288 with 2 Axes>"
      ]
     },
     "metadata": {
      "needs_background": "light"
     },
     "output_type": "display_data"
    },
    {
     "name": "stdout",
     "output_type": "stream",
     "text": [
      "Précision :  61.98 %\n",
      "\n",
      "Recall :  42.71 %\n",
      "\n",
      "\n",
      "--------------- Validation performances ---------------------\n",
      "\n",
      "Confusion Matrix: \n",
      "\n"
     ]
    },
    {
     "data": {
      "image/png": "[encoded data removed]",
      "text/plain": [
       "<Figure size 360x288 with 2 Axes>"
      ]
     },
     "metadata": {
      "needs_background": "light"
     },
     "output_type": "display_data"
    },
    {
     "name": "stdout",
     "output_type": "stream",
     "text": [
      "Précision :  62.46 %\n",
      "\n",
      "Recall :  42.43 %\n",
      "\n"
     ]
    }
   ],
   "source": [
    "# Ajustement d'un arbre de classification optimal et affichage des résulats de l'entrainement et de la validation\n",
    "best_model_tree = tree.DecisionTreeClassifier(criterion = 'gini', max_depth=depth_optim, min_samples_leaf=1, class_weight='balanced',random_state=200)\n",
    "clf = best_model_tree.fit(X_train , Y_train)\n",
    "class_levels = Y.unique()\n",
    "class_levels[0],class_levels[1],class_levels[2],class_levels[3] = class_levels[1],class_levels[2],class_levels[0],class_levels[3]\n",
    "print(\"\\n--------------- Learning performances -----------------------\\n\") \n",
    "# Predictions\n",
    "Y_train_pred = clf.predict(X_train)\n",
    "# Afficher les resultats\n",
    "print(\"Confusion Matrix: \\n\") \n",
    "plt.figure(figsize=(5,4))\n",
    "sns.heatmap(confusion_matrix(Y_train, Y_train_pred), annot=True, fmt=\"g\",  yticklabels=class_levels, xticklabels=class_levels)\n",
    "\n",
    "plt.title('Confusion Matrix Entrainement')\n",
    "plt.ylabel('Vraies valeurs')\n",
    "plt.xlabel('Valeurs prédites')\n",
    "plt.show()\n",
    "print (\"Précision : \", round(accuracy_score(Y_train, Y_train_pred)*100,2), '%\\n') \n",
    "print (\"Recall : \", round(recall_score(Y_train, Y_train_pred, average=\"macro\")*100,2),'%\\n')\n",
    "\n",
    "print(\"\\n--------------- Validation performances ---------------------\\n\") \n",
    "# Predictions\n",
    "Y_test_pred = clf.predict(X_test)\n",
    "# Afficher les resultats\n",
    "print(\"Confusion Matrix: \\n\") \n",
    "plt.figure(figsize=(5,4))\n",
    "sns.heatmap(confusion_matrix(Y_test, Y_test_pred), annot=True, fmt=\"g\",  yticklabels=class_levels, xticklabels=class_levels)\n",
    "\n",
    "plt.title('Confusion Matrix Validation')\n",
    "plt.ylabel('Vraies valeurs')\n",
    "plt.xlabel('Valeurs prédites')\n",
    "plt.show()\n",
    "print (\"Précision : \", round(accuracy_score(Y_test, Y_test_pred)*100,2),'%\\n')\n",
    "print (\"Recall : \", round(recall_score(Y_test, Y_test_pred, average=\"macro\")*100,2),'%\\n')"
   ]
  },
  {
   "cell_type": "markdown",
   "metadata": {
    "id": "5Y1lY7G-zuyw"
   },
   "source": [
    "## Fôrets aléatoires"
   ]
  },
  {
   "cell_type": "code",
   "execution_count": 20,
   "metadata": {
    "id": "E8r_0nXkzxxk"
   },
   "outputs": [],
   "source": [
    "'''\n",
    "Réalisation d'une validation croisée afin d'obtenir la profondeur d'arbre optimale\n",
    "et le nombre d'arbres optimal pour Random Forest\n",
    "\n",
    "--> PEUT PRENDRE BEAUCOUP DE TEMPS\n",
    "Un long test a été fait avec \n",
    "param_grid = {\n",
    "    'max_depth': [i for i in range(5,20,5)],\n",
    "    'n_estimators': [i for i in range(100,600,100)]\n",
    "}\n",
    ">>>> Résultat : \n",
    "La valeur optimale pour la profondeur est de 15 avec 300 arbres et une précision de : 68.22 %\n",
    "\n",
    "Etant donné le temps de calcul qui peut être long, nous avons fait le choix\n",
    "de fixer le nombre max de prédicteurs à sqrt(nombre_total_de_predicteurs).\n",
    "'''\n",
    "\n",
    "# Création d'une grille de paramètres pour la validation croisée\n",
    "param_grid = {\n",
    "    'max_depth': [15],\n",
    "    'n_estimators': [300],\n",
    "    'max_features': [int(np.sqrt(X.shape[1]))]\n",
    "}\n",
    "# Création du modèle de Random Forest\n",
    "rf = RandomForestClassifier(criterion = \"entropy\", bootstrap=True, min_samples_leaf=1, class_weight='balanced',random_state=204)\n",
    "# GridSearch avec une validation croisée à 5 folds\n",
    "grid_search = GridSearchCV(estimator = rf, param_grid = param_grid, cv = 5, n_jobs = 4, verbose=3)"
   ]
  },
  {
   "cell_type": "code",
   "execution_count": 21,
   "metadata": {
    "colab": {
     "base_uri": "https://localhost:8080/",
     "height": 0
    },
    "id": "JVUWJuVD0qIA",
    "outputId": "8ebe380c-4a65-4403-c840-db889102ee4b"
   },
   "outputs": [
    {
     "name": "stdout",
     "output_type": "stream",
     "text": [
      "Fitting 5 folds for each of 1 candidates, totalling 5 fits\n"
     ]
    },
    {
     "data": {
      "text/plain": [
       "GridSearchCV(cv=5,\n",
       "             estimator=RandomForestClassifier(class_weight='balanced',\n",
       "                                              criterion='entropy',\n",
       "                                              random_state=204),\n",
       "             n_jobs=4,\n",
       "             param_grid={'max_depth': [15], 'max_features': [38],\n",
       "                         'n_estimators': [300]},\n",
       "             verbose=3)"
      ]
     },
     "execution_count": 21,
     "metadata": {},
     "output_type": "execute_result"
    }
   ],
   "source": [
    "# Ajustement sur les données d'entrainement\n",
    "grid_search.fit(X_train, Y_train)"
   ]
  },
  {
   "cell_type": "code",
   "execution_count": 22,
   "metadata": {
    "colab": {
     "base_uri": "https://localhost:8080/",
     "height": 0
    },
    "id": "bXbSwIIR2HbM",
    "outputId": "30e1a423-69c1-45f8-c28b-715cf3809dff"
   },
   "outputs": [
    {
     "name": "stdout",
     "output_type": "stream",
     "text": [
      "Random Forest : La valeur optimale pour la profondeur est de 15 avec 300 arbres et 38 prédicteurs pour une précision de : 70.16 %\n"
     ]
    }
   ],
   "source": [
    "# Affichage des paramètres optimaux obtenus\n",
    "best_rf_depth, ntrees, best_rf_nfeatures = grid_search.best_params_['max_depth'], grid_search.best_params_['n_estimators'], grid_search.best_params_['max_features']\n",
    "rf_cv_best_accuracy = grid_search.best_score_\n",
    "print(\"Random Forest : La valeur optimale pour la profondeur est de\", best_rf_depth,\"avec\",ntrees,\"arbres et\", best_rf_nfeatures,\"prédicteurs pour une précision de :\", round(rf_cv_best_accuracy*100, 2), \"%\")"
   ]
  },
  {
   "cell_type": "code",
   "execution_count": 23,
   "metadata": {
    "colab": {
     "base_uri": "https://localhost:8080/",
     "height": 1084
    },
    "id": "0g287vwKRNUy",
    "outputId": "bfa653db-b3ac-4e45-c07e-0ce4b51bca42"
   },
   "outputs": [
    {
     "name": "stdout",
     "output_type": "stream",
     "text": [
      "\n",
      "--------------- Learning performances -----------------------\n",
      "\n",
      "Confusion Matrix: \n",
      "\n"
     ]
    },
    {
     "data": {
      "image/png": "[encoded data removed]",
      "text/plain": [
       "<Figure size 360x288 with 2 Axes>"
      ]
     },
     "metadata": {
      "needs_background": "light"
     },
     "output_type": "display_data"
    },
    {
     "name": "stdout",
     "output_type": "stream",
     "text": [
      "Précision :  75.71 %\n",
      "\n",
      "Recall :  79.88 %\n",
      "\n",
      "\n",
      "--------------- Validation performances ---------------------\n",
      "\n",
      "Confusion Matrix: \n",
      "\n"
     ]
    },
    {
     "data": {
      "image/png": "[encoded data removed]",
      "text/plain": [
       "<Figure size 360x288 with 2 Axes>"
      ]
     },
     "metadata": {
      "needs_background": "light"
     },
     "output_type": "display_data"
    },
    {
     "name": "stdout",
     "output_type": "stream",
     "text": [
      "Précision :  68.95 %\n",
      "\n",
      "Recall :  43.52 %\n",
      "\n"
     ]
    }
   ],
   "source": [
    "# Ajustement d'un modèle Random Forest optimal et affichage des résulats de l'entrainement et de la validation\n",
    "\n",
    "best_rf = RandomForestClassifier(max_depth=best_rf_depth,n_estimators=ntrees, max_features= best_rf_nfeatures ,criterion = \"entropy\", bootstrap=True, min_samples_leaf=1, class_weight='balanced',random_state=204)\n",
    "rf_clf = best_rf.fit(X_train , Y_train)\n",
    "class_levels = Y.unique()\n",
    "class_levels[0],class_levels[1],class_levels[2],class_levels[3] = class_levels[1],class_levels[2],class_levels[0],class_levels[3]\n",
    "print(\"\\n--------------- Learning performances -----------------------\\n\") \n",
    "# Predictions\n",
    "Y_train_pred = rf_clf.predict(X_train)\n",
    "# Afficher les resultats\n",
    "print(\"Confusion Matrix: \\n\") \n",
    "plt.figure(figsize=(5,4))\n",
    "sns.heatmap(confusion_matrix(Y_train, Y_train_pred), annot=True, fmt=\"g\",  yticklabels=class_levels, xticklabels=class_levels)\n",
    "\n",
    "plt.title('Confusion Matrix Entrainement')\n",
    "plt.ylabel('Vraies valeurs')\n",
    "plt.xlabel('Valeurs prédites')\n",
    "plt.show()\n",
    "print (\"Précision : \", round(accuracy_score(Y_train, Y_train_pred)*100,2), '%\\n') \n",
    "print (\"Recall : \", round(recall_score(Y_train, Y_train_pred, average=\"macro\")*100,2),'%\\n')\n",
    "\n",
    "print(\"\\n--------------- Validation performances ---------------------\\n\") \n",
    "# Predictions\n",
    "Y_test_pred = rf_clf.predict(X_test)\n",
    "# Afficher les resultats\n",
    "print(\"Confusion Matrix: \\n\") \n",
    "plt.figure(figsize=(5,4))\n",
    "sns.heatmap(confusion_matrix(Y_test, Y_test_pred), annot=True, fmt=\"g\",  yticklabels=class_levels, xticklabels=class_levels)\n",
    "\n",
    "plt.title('Confusion Matrix Validation')\n",
    "plt.ylabel('Vraies valeurs')\n",
    "plt.xlabel('Valeurs prédites')\n",
    "plt.show()\n",
    "print (\"Précision : \", round(accuracy_score(Y_test, Y_test_pred)*100,2),'%\\n')\n",
    "print (\"Recall : \", round(recall_score(Y_test, Y_test_pred, average=\"macro\")*100,2),'%\\n')"
   ]
  },
  {
   "cell_type": "code",
   "execution_count": null,
   "metadata": {},
   "outputs": [],
   "source": []
  }
 ],
 "metadata": {
  "colab": {
   "collapsed_sections": [],
   "name": "Projet_IND6212_Colab (2).ipynb",
   "provenance": []
  },
  "kernelspec": {
   "display_name": "Python 3 (ipykernel)",
   "language": "python",
   "name": "python3"
  },
  "language_info": {
   "codemirror_mode": {
    "name": "ipython",
    "version": 3
   },
   "file_extension": ".py",
   "mimetype": "text/x-python",
   "name": "python",
   "nbconvert_exporter": "python",
   "pygments_lexer": "ipython3",
   "version": "3.9.7"
  }
 },
 "nbformat": 4,
 "nbformat_minor": 1
}
